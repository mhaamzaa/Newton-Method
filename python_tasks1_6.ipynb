{
  "cells": [
    {
      "cell_type": "markdown",
      "metadata": {
        "id": "view-in-github",
        "colab_type": "text"
      },
      "source": [
        "<a href=\"https://colab.research.google.com/github/mhaamzaa/Newton-Method/blob/main/python_tasks1_6.ipynb\" target=\"_parent\"><img src=\"https://colab.research.google.com/assets/colab-badge.svg\" alt=\"Open In Colab\"/></a>"
      ]
    },
    {
      "cell_type": "markdown",
      "source": [
        "Place  cursor in first cell and press RSHIFT + RETURN keys to run the cell. Keep pressing and runing the cells to the end "
      ],
      "metadata": {
        "id": "Qi_kbzBOphBk"
      }
    },
    {
      "cell_type": "markdown",
      "metadata": {
        "id": "ZCN1HEVRXwrG"
      },
      "source": [
        "**Installing the dependencies**"
      ]
    },
    {
      "cell_type": "code",
      "execution_count": 6,
      "metadata": {
        "id": "Ao8JhJnYZJNm"
      },
      "outputs": [],
      "source": [
        "# importing the libraries\n",
        "import numpy as np\n",
        "from matplotlib import pyplot as plt\n",
        "from scipy.interpolate import CubicSpline"
      ]
    },
    {
      "cell_type": "markdown",
      "metadata": {
        "id": "Je6iqbylfSV5"
      },
      "source": [
        "9.1. Write a Python function called isSymmetric which takes a single parameter A and\n",
        "checks if the NumPy matrix A is symmetric. It should return 1 if the matrix is symmetric,\n",
        "and 0 if the matrix is non-symmetric."
      ]
    },
    {
      "cell_type": "code",
      "execution_count": 2,
      "metadata": {
        "id": "XhwxboSjXrOQ",
        "colab": {
          "base_uri": "https://localhost:8080/"
        },
        "outputId": "649c9c10-b8d2-4cc5-91da-743360cf204b"
      },
      "outputs": [
        {
          "output_type": "stream",
          "name": "stdout",
          "text": [
            "enter the order of matrix 2\n",
            "Enter value for 1. row and 1. column: 1\n",
            "Enter value for 1. row and 2. column: 2\n",
            "Enter value for 2. row and 1. column: 2\n",
            "Enter value for 2. row and 2. column: 1\n",
            "[[1 2]\n",
            " [2 1]]\n",
            "1\n"
          ]
        }
      ],
      "source": [
        "# defining a function that will return true if the input matrix is symmetric otherwise false\n",
        "def isSymmetric(matrix, N):\n",
        "    for i in range(N):\n",
        "        for j in range(N):\n",
        "            if (matrix[i][j] != matrix[j][i]):\n",
        "                return False\n",
        "    return True\n",
        "   \n",
        "\n",
        "#taking the number of rows and colums as a single number to make sure the given matrix is a symmetric matrix is a type of square matrix  \n",
        "n = int(input(\"enter the order of matrix \"))\n",
        "\n",
        "\n",
        "\n",
        "array = [[int(input(\"Enter value for {}. row and {}. column: \".format(r + 1, c + 1))) for c in range(n)] for r in range(n)]\n",
        "\n",
        "print(np.array(array))\n",
        "#calling the function defined above.\n",
        "if (isSymmetric(array, n)):\n",
        "    print (\"1\")\n",
        "else:\n",
        "    print (\"0\")"
      ]
    },
    {
      "cell_type": "markdown",
      "metadata": {
        "id": "xfglrxhcfYwV"
      },
      "source": [
        "9.2. Write a Python function called isDiagonallyDominant which takes a single parame\u0002ter A and checks if the NumPy matrix A is diagonally dominant. It should return 1 if the\n",
        "matrix is diagonally dominant, and 0 if the matrix is not diagonally dominant."
      ]
    },
    {
      "cell_type": "code",
      "execution_count": 3,
      "metadata": {
        "id": "Y-AJmqPnpQTN",
        "colab": {
          "base_uri": "https://localhost:8080/"
        },
        "outputId": "2940f7c0-7d6b-4b26-cc11-aa221a4091fb"
      },
      "outputs": [
        {
          "output_type": "stream",
          "name": "stdout",
          "text": [
            "enter the order of matrix 3\n",
            "Enter value for 1. row and 1. column: 1\n",
            "Enter value for 1. row and 2. column: 2\n",
            "Enter value for 1. row and 3. column: 3\n",
            "Enter value for 2. row and 1. column: 4\n",
            "Enter value for 2. row and 2. column: 5\n",
            "Enter value for 2. row and 3. column: 6\n",
            "Enter value for 3. row and 1. column: 7\n",
            "Enter value for 3. row and 2. column: 8\n",
            "Enter value for 3. row and 3. column: 10\n",
            "[[ 1  2  3]\n",
            " [ 4  5  6]\n",
            " [ 7  8 10]]\n",
            "0\n"
          ]
        }
      ],
      "source": [
        "def is_diagonally_dominant(X):\n",
        "    D = np.diag(np.abs(X)) # Find diagonal coefficients\n",
        "    S = np.sum(np.abs(X), axis=1) - D # Find row sum without diagonal\n",
        "    if np.all(D > S):\n",
        "        print ('1')\n",
        "    else:\n",
        "        print ('0')\n",
        "    return\n",
        "\n",
        "# taking an n-by-n square matrix as a diagonal matrix is always a square matrix\n",
        "\n",
        "n = int(input(\"enter the order of matrix \"))\n",
        "\n",
        "\n",
        "\n",
        "array = [[int(input(\"Enter value for {}. row and {}. column: \".format(r + 1, c + 1))) for c in range(n)] for r in range(n)]\n",
        "\n",
        "print(np.array(array))\n",
        "\n",
        "    \n",
        "\n",
        "is_diagonally_dominant(array)"
      ]
    },
    {
      "cell_type": "markdown",
      "metadata": {
        "id": "XbaioIpTfgbI"
      },
      "source": [
        "10.1. Compute, by hand, the second-degree Lagrange polynomial for the points, x = {0, 2, 4}\n",
        "and f (x) = {1, 0.223891,−0.39715}. If f (3) = −0.260052, how accurate is the interpolation at this point. Plot your interpolating polynomial for x ∈ [0, 5]. The points were\n",
        "generated from the Bessel function of the first kind, J0(x). Compare your interpolating\n",
        "polynomial to the actual function."
      ]
    },
    {
      "cell_type": "code",
      "execution_count": null,
      "metadata": {
        "colab": {
          "base_uri": "https://localhost:8080/",
          "height": 264
        },
        "id": "DbLdSf0bv9lO",
        "outputId": "6cf4af2b-03bb-442d-f7da-157f839b675f"
      },
      "outputs": [
        {
          "data": {
            "image/png": "[encoded data removed]",
            "text/plain": [
              "<Figure size 432x288 with 1 Axes>"
            ]
          },
          "metadata": {},
          "output_type": "display_data"
        }
      ],
      "source": [
        "Xp = [0 , 2 ,3 ,4 ]\n",
        "Yp = [1 , 0.223891 ,-0.260052 ,-0.39715 ]\n",
        "\n",
        "# 100 linearly spaced numbers\n",
        "x = np.linspace(0,5,100)\n",
        "\n",
        "# the function, which is y in terms of x is given here :\n",
        "y = (x**2 -6*x + 8)/8 + 0.223891*(-x**2 + 4*x)/4 + (-0.39715) * (x**2 - 2*x)/8\n",
        "\n",
        "# setting the axes at the centre\n",
        "fig = plt.figure()\n",
        "ax = fig.add_subplot(1, 1, 1)\n",
        "ax.spines['left'].set_position('center')\n",
        "ax.spines['bottom'].set_position('center')\n",
        "ax.spines['right'].set_color('none')\n",
        "ax.spines['top'].set_color('none')\n",
        "ax.xaxis.set_ticks_position('bottom')\n",
        "ax.yaxis.set_ticks_position('left')\n",
        "\n",
        "# plot the function and points : \n",
        "\n",
        "plt.plot(x,y,'g')\n",
        "\n",
        "plt.scatter(Xp , Yp , s = 50 , color = 'r')\n",
        "\n",
        "# Settng title for the plot in blue color\n",
        "plt.title('Modified Bessel - First Kind - Order 0', color='r')\n",
        "\n",
        "# Showing grid\n",
        "plt.grid()\n",
        "# show the plot\n",
        "plt.show()"
      ]
    },
    {
      "cell_type": "markdown",
      "metadata": {
        "id": "GgFEc1TZUeNt"
      },
      "source": [
        "10.2. Repeat the previous exercise with a clamped cubic spline and a not-a-knot cubic\n",
        "spline.\n"
      ]
    },
    {
      "cell_type": "code",
      "execution_count": null,
      "metadata": {
        "id": "zXNOYf7mcfnC"
      },
      "outputs": [],
      "source": [
        "plt.style.use('seaborn-poster')"
      ]
    },
    {
      "cell_type": "code",
      "execution_count": null,
      "metadata": {
        "colab": {
          "base_uri": "https://localhost:8080/",
          "height": 1000
        },
        "id": "GxNCQWUAgHiu",
        "outputId": "1611d650-7964-4983-f0ce-73699e4a2dd7"
      },
      "outputs": [
        {
          "data": {
            "image/png": "[encoded data removed]",
            "text/plain": [
              "<Figure size 576x576 with 1 Axes>"
            ]
          },
          "metadata": {},
          "output_type": "display_data"
        },
        {
          "data": {
            "image/png": "[encoded data removed]",
            "text/plain": [
              "<Figure size 576x576 with 1 Axes>"
            ]
          },
          "metadata": {},
          "output_type": "display_data"
        }
      ],
      "source": [
        "#define data\n",
        "plt.figure(figsize = (8,8))\n",
        "Xp = [0 , 2 ,3 ,4 ]\n",
        "Yp = [1 , 0.223891 ,-0.260052 ,-0.39715 ]\n",
        "\n",
        "# 100 linearly spaced numbers\n",
        "x = np.linspace(0,5,4)\n",
        "\n",
        "# the function, which is y in terms of x is given here :\n",
        "y = (x**2 -6*x + 8)/8 + 0.223891*(-x**2 + 4*x)/4 + (-0.39715) * (x**2 - 2*x)/8\n",
        "# a = np.linspace(0.2,np.pi*1.8,5)\n",
        "# data = np.zeros((5,2))\n",
        "# data[:,0] = a\n",
        "# data[:,1] = np.sinh(a)\n",
        "#define splines\n",
        "# splineFunction = CubicSpline(data[:,0],data[:,1],bc_type= 'natural')\n",
        "splineFuncClamp = CubicSpline(x, y ,bc_type= 'clamped')\n",
        "splineFuncNot = CubicSpline(x, y, bc_type='not-a-knot')\n",
        "#make plot\n",
        "points = 200\n",
        "X = np.linspace(0,np.pi*2,points)\n",
        "# plt.plot(X,splineFunction(X),label=\"Natural Cubic Spline\")\n",
        "plt.plot(x,splineFuncClamp(x),linestyle=\"solid\",label=\"Clamped Cubic Spline\")\n",
        "\n",
        "# plt.plot(X,np.sin(X), label=\"$\\sinh(x)$\")\n",
        "\n",
        "plt.scatter(Xp, Yp ,s = 25 , color = 'r')\n",
        "plt.title(\"Clamped Cubic Spline\" , color='r' , fontsize = 15)\n",
        "plt.show()\n",
        "\n",
        "plt.figure(figsize = (8,8))\n",
        "plt.plot(x,splineFuncNot(x),linestyle=\"dotted\",label=\"NaK Cubic Spline\")\n",
        "plt.title(\"Not a Knot Cubic Spline \", color='r' ,  fontsize = 15)\n",
        "plt.show()"
      ]
    },
    {
      "cell_type": "markdown",
      "metadata": {
        "id": "srHzsVrr3BsP"
      },
      "source": [
        "2. Tri-diagonal Gauss-Seidel\n",
        "Write a Gauss-Seidel solver for tri-diagonal matrices. The implementation should take as\n",
        "input a tri-diagonal matrix just as the tri-diagonal Jacobi defined previously. Test your implementations on the same timing study performed above in Section 9.6. Comment on the\n",
        "results."
      ]
    },
    {
      "cell_type": "code",
      "execution_count": null,
      "metadata": {
        "colab": {
          "background_save": true,
          "base_uri": "https://localhost:8080/"
        },
        "id": "OBypFsN1bzW2",
        "outputId": "8f85d40b-222b-4530-f56e-f72a50c6c226"
      },
      "outputs": [
        {
          "name": "stdout",
          "output_type": "stream",
          "text": [
            "Please just enter the coefficients of variables with sign. write zero if there is no variable in that case. The arrangement is x1 , x2 , x3\n",
            "[[ 1  2  3]\n",
            " [ 4  5  6]\n",
            " [ 7  8 10]]\n",
            "[[1, 2, 3], [4, 5, 6], [7, 8, 10]]\n",
            "NOT diagonally dominant\n",
            "\n",
            "Please enter a diagonialy dominant matrix\n",
            "Please just enter the coefficients of variables with sign. write zero if there is no variable in that case. The arrangement is x1 , x2 , x3\n"
          ]
        }
      ],
      "source": [
        "\n",
        "n = int(3)\n",
        "\n",
        "\n",
        "print(\"Please just enter the coefficients of variables with sign. write zero if there is no variable in that case. The arrangement is x1 , x2 , x3\")\n",
        "array = [[int(input(\"Enter value for {}. row and {}. column: \".format(r + 1, c + 1))) for c in range(n)] for r in range(n)]\n",
        "\n",
        "print(np.array(array))\n",
        "a = [array[0], array[1], array[2]]\n",
        "print(a)\n",
        "\n",
        "# Find diagonal coefficients\n",
        "diag = np.diag(np.abs(a)) \n",
        "\n",
        "# Find row sum without diagonal\n",
        "off_diag = np.sum(np.abs(a), axis=1) - diag \n",
        "\n",
        "if np.all(diag > off_diag):\n",
        "    print('matrix is diagonally dominant')\n",
        "else:\n",
        "    x=int(0)\n",
        "    print('NOT diagonally dominant')\n",
        "while 0 >= x :\n",
        "  print(\"\")\n",
        "  print(\"Please enter a diagonialy dominant matrix\")\n",
        "  n = int(3)\n",
        "  print(\"Please just enter the coefficients of variables with sign. write zero if there is no variable in that case. The arrangement is x1 , x2 , x3\")\n",
        "  array = [[int(input(\"Enter value for {}. row and {}. column: \".format(r + 1, c + 1))) for c in range(n)] for r in range(n)]\n",
        "\n",
        "  print(np.array(array))\n",
        "  a = [array[0], array[1], array[2]]\n",
        "  print(a)\n",
        "\n",
        "  # Find diagonal coefficients\n",
        "  diag = np.diag(np.abs(a)) \n",
        "\n",
        "  # Find row sum without diagonal\n",
        "  off_diag = np.sum(np.abs(a), axis=1) - diag \n",
        "\n",
        "  if np.all(diag > off_diag):\n",
        "    print('matrix is diagonally dominant')\n",
        "  else:\n",
        "    x=0\n",
        "    print('NOT diagonally dominant')\n",
        "l = int(input(\"enter the left hand side of the row 1 (0 if there is not any)\"))\n",
        "m = int(input(\"enter the left hand side of the row 2 (0 if there is not any)\"))\n",
        "n = int(input(\"enter the left hand side of the row 3 (0 if there is not any)\"))"
      ]
    },
    {
      "cell_type": "code",
      "execution_count": null,
      "metadata": {
        "colab": {
          "base_uri": "https://localhost:8080/"
        },
        "id": "qUmkH97Zb0uJ",
        "outputId": "5bbb4dcf-d09a-4366-eb98-ada2b09be893"
      },
      "outputs": [
        {
          "name": "stdout",
          "output_type": "stream",
          "text": [
            "Enter the degree upto which you want precision : 4\n",
            "Enter the number of iterations upto which you want to go : 20\n",
            "Iteration results\n",
            " k,    x1,    x2,    x3 \n",
            "1, 9.0000, -9.4000, 1.2200\n",
            "2, 24.1400, -22.9760, 1.4828\n",
            "3, 50.5036, -44.3822, 0.1533\n",
            "4, 97.3047, -80.2277, -3.9311\n",
            "5, 181.2487, -142.4816, -12.8888\n",
            "6, 332.6297, -252.8372, -30.5710\n",
            "7, 606.3875, -450.6247, -63.9715\n",
            "8, 1102.1638, -807.1653, -125.7824\n",
            "9, 2000.6779, -1451.8034, -239.0318\n",
            "10, 3629.7022, -2619.1236, -445.4927\n",
            "11, 6583.7252, -4734.5889, -820.9365\n",
            "12, 11940.9873, -8569.8661, -1502.7982\n",
            "13, 21657.1269, -15524.5436, -2740.3539\n",
            "14, 39279.1490, -28137.0945, -4985.7287\n",
            "15, 71240.3750, -51011.6256, -9058.9621\n",
            "16, 129209.1373, -92498.7554, -16447.3918\n",
            "17, 234348.6862, -167744.2788, -29848.6573\n",
            "18, 425043.5295, -304218.6349, -54155.5628\n",
            "19, 770912.9581, -551745.8911, -98242.3578\n",
            "Not converge, increase the number of iterations\n"
          ]
        }
      ],
      "source": [
        "\n",
        "x1 = 0\n",
        "x2 = 0\n",
        "x3 = 0\n",
        "d = int(input(\"Enter the degree upto which you want precision : \"))\n",
        "r = int(input(\"Enter the number of iterations upto which you want to go : \"))\n",
        "d = d+1\n",
        "s = 10**(-d)\n",
        "epsilon = s\n",
        "converged = False\n",
        "\n",
        "x_old = np.array([x1, x2, x3])\n",
        "\n",
        "print('Iteration results')\n",
        "print(' k,    x1,    x2,    x3 ')\n",
        "for k in range(1, r):\n",
        "    x1 = (l - ( x2 * a[0][1] + x3 * a[0][2] ))/ a[0][0] \n",
        "    x2 = (m - ( x1 * a[1][0] + x3 * a[1][2] )) / a[1][1] \n",
        "    x3 = (n - ( x1 * a[2][0] + x2 * a[2][1] )) / a[2][2] \n",
        "    x = np.array([x1, x2, x3])\n",
        "    # check if it is smaller than threshold\n",
        "    dx = np.sqrt(np.dot(x-x_old, x-x_old))\n",
        "    \n",
        "    print(\"%d, %.4f, %.4f, %.4f\"%(k, x1, x2, x3))\n",
        "    if dx < epsilon:\n",
        "        converged = True\n",
        "        print('Converged!')\n",
        "        break\n",
        "        \n",
        "    # assign the latest x value to the old value\n",
        "    x_old = x\n",
        "\n",
        "if not converged:\n",
        "    print('Not converge, increase the number of iterations')"
      ]
    },
    {
      "cell_type": "markdown",
      "metadata": {
        "id": "909h2-q3d8vN"
      },
      "source": [
        "The tridiagonal Jacobi method is the fastest because it grows linearly in the number of equations whereas the other methods grow quadratically in the number of equations. The same result is observed while calculations. accuracy upto 10e-6 can be obtained within 20 iterations which is way more quicker than other methods"
      ]
    },
    {
      "cell_type": "markdown",
      "metadata": {
        "id": "1g9epn9M23Bg"
      },
      "source": [
        "The change in the reactivity for a nuclear reactor due to changes in the moderator temper\u0002ature is called the moderator temperature coefficient of αm is the logarithmic derivative of k∞\n",
        "for the reactor as\n",
        "\n",
        "            αm = 1/k∞.∂k∞/∂Tm = −βm(log1/p − (1 − f )\n",
        "\n",
        "where the subscript m denotes “moderator”, p is the resonance escape probability for the reactor, f is the thermal utilization, and βm is\n",
        "\n",
        "                      βm = − 1/Nm.∂Nm/∂Tm\n",
        "\n",
        "with Nm the number density of the moderator. Consider a research reactor that is cooled by natural convection. It has p = 0.63 and f = 0.94. Plot the moderator temperature coefficient from Tm = 285 K to 373 K as a function of \n",
        "temperature for this reactor.\n"
      ]
    },
    {
      "cell_type": "code",
      "execution_count": null,
      "metadata": {
        "id": "t-7-6iSGUBCf"
      },
      "outputs": [],
      "source": [
        "# 100 linearly spaced numbers\n",
        "x = np.linspace(285,373,100)\n",
        "\n",
        "# the function, which is y in terms of x is given here :\n",
        "y = -0.002104 * x**2 -0.0669 * x -0.5415\n",
        "\n",
        "# setting the axes at the centre\n",
        "fig = plt.figure()\n",
        "ax = fig.add_subplot(1, 1, 1)\n",
        "ax.spines['left'].set_position('center')\n",
        "ax.spines['bottom'].set_position('center')\n",
        "ax.spines['right'].set_color('none')\n",
        "ax.spines['top'].set_color('none')\n",
        "ax.xaxis.set_ticks_position('bottom')\n",
        "ax.yaxis.set_ticks_position('left')\n",
        "\n",
        "# plot the function and points : \n",
        "\n",
        "\n",
        "ax.annotate('$Temperature$', xy=(0.98, 0), ha='left', va='top', xycoords='axes fraction', fontsize=10)\n",
        "ax.annotate('$MTC$', xy=(0, 1), xytext=(-15,2), ha='left', va='top', xycoords='axes fraction', textcoords='offset points', fontsize=10)\n",
        "\n",
        "plt.plot(x,y,'g')\n",
        "\n",
        "\n",
        "\n",
        "# Settng title for the plot in blue color\n",
        "plt.title('Graph of MTC against Reactor Temperature', color='b')\n",
        "\n",
        "# Showing grid\n",
        "plt.grid()\n",
        "# show the plot\n",
        "plt.show()"
      ]
    },
    {
      "cell_type": "markdown",
      "metadata": {
        "id": "yvQRo72f3WaO"
      },
      "source": [
        "Moderator Temperature Coefficient:\n",
        "As the moderator (water) increases in temperature, it becomes less dense and slows down fewer neutrons, which results in a negative change of reactivity. This negative temperature coefficient acts to stabilize atomic power reactor operations.\n",
        "  The refernce for this calculation is \n",
        "Calculation of the moderator temperature coefficient of reactivity for water moderated reactors by,\n",
        "K. Mourtzanos, C. Housiadas, M. Antonopoulos-Domis\n",
        "\"https://www.sciencedirect.com/science/article/pii/S0306454901000160\"\n",
        "DETERMINATION OF THE TEMPERATURE COEFFICIENTS\n",
        "AND THE KINETIC PARAMETERS\n",
        "FOR THE HTTR SAFETY ANALYSIS \n",
        "by K. TOKUHARA , T. NAKATA,I. MURATA, K. YAMASHITA, R. SHINDO\n",
        "\"https://inis.iaea.org/collection/NCLCollectionStore/_Public/22/060/22060768.pdf\" \n",
        "and \n",
        "Experimental estimation of moderator temperature coefficient of reactivity of the IPEN/MB-01 research reactor\n",
        "By; R. C. da Silvaa, U. d’U. Bitelli, L. E. C. Mura\n",
        "\n",
        "\"https://www.sbpr.org.br/revista/index.php/REVISTA/article/viewFile/615/493\"\n",
        "\n",
        "The calculations might vary from reactor to reactor depending on the conditions. "
      ]
    },
    {
      "cell_type": "code",
      "execution_count": null,
      "metadata": {
        "id": "w3qztC-W3ck8"
      },
      "outputs": [],
      "source": [
        ""
      ]
    }
  ],
  "metadata": {
    "colab": {
      "collapsed_sections": [],
      "name": "python_tasks1-6.ipynb",
      "provenance": [],
      "authorship_tag": "ABX9TyPk1rudHjmcoGkiI8ADVLrR",
      "include_colab_link": true
    },
    "kernelspec": {
      "display_name": "Python 3",
      "name": "python3"
    },
    "language_info": {
      "name": "python"
    }
  },
  "nbformat": 4,
  "nbformat_minor": 0
}